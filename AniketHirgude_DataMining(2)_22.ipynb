{
  "nbformat": 4,
  "nbformat_minor": 0,
  "metadata": {
    "colab": {
      "provenance": [],
      "collapsed_sections": [],
      "toc_visible": true
    },
    "kernelspec": {
      "name": "python3",
      "display_name": "Python 3"
    },
    "language_info": {
      "name": "python"
    }
  },
  "cells": [
    {
      "cell_type": "markdown",
      "source": [
        "***2.1 Read the data and do exploratory data analysis (4 pts). Describe the data briefly. Interpret the inferences for each (2 pts). Initial steps like head() .info(), Data Types, etc . Null value check. Distribution plots(histogram) or similar plots for the continuous columns. Box plots, Correlation plots. Appropriate plots for categorical variables. Inferences on each plot. Summary stats, Skewness, Outliers proportion should be discussed, and inferences from above used plots should be there. There is no restriction on how the learner wishes to implement this but the code should be able to represent the correct output and inferences should be logical and correct.***"
      ],
      "metadata": {
        "id": "OzzeWHx0NSVI"
      }
    },
    {
      "cell_type": "code",
      "source": [
        "# Data Analysis & Data Wrangling\n",
        "import numpy as np\n",
        "import pandas as pd\n",
        "\n",
        "\n",
        "import scipy.stats as stats\n",
        "\n",
        "\n",
        "# Data Visualization\n",
        "import seaborn as sns\n",
        "import matplotlib.pyplot as plt\n",
        "%matplotlib inline\n",
        "\n",
        "# Filtering warning message\n",
        "from warnings import filterwarnings\n",
        "filterwarnings(\"ignore\")\n",
        "\n",
        "from sklearn.neural_network import MLPClassifier\n",
        "\n",
        "from sklearn.tree import DecisionTreeClassifier\n",
        "from sklearn.ensemble import RandomForestClassifier\n",
        "\n",
        "from sklearn.model_selection import train_test_split\n",
        "from sklearn.metrics import roc_auc_score,roc_curve,classification_report,confusion_matrix\n",
        "from sklearn.preprocessing import StandardScaler\n",
        "from sklearn.model_selection import GridSearchCV"
      ],
      "metadata": {
        "id": "llpM6JfPNUj-"
      },
      "execution_count": 2,
      "outputs": []
    },
    {
      "cell_type": "code",
      "source": [
        "## Importing the datatset\n",
        "df=pd.read_csv(\"/content/insurance_part2_data.csv\")"
      ],
      "metadata": {
        "id": "RqdlYygWNVlc"
      },
      "execution_count": 3,
      "outputs": []
    },
    {
      "cell_type": "code",
      "source": [
        "df.head()"
      ],
      "metadata": {
        "colab": {
          "base_uri": "https://localhost:8080/",
          "height": 357
        },
        "id": "lie5oQv-NVoy",
        "outputId": "3b855213-caf9-4ee6-87d7-bb7bb793b2d9"
      },
      "execution_count": null,
      "outputs": [
        {
          "output_type": "execute_result",
          "data": {
            "text/plain": [
              "   Age Agency_Code           Type Claimed  Commision Channel  Duration  Sales  \\\n",
              "0   48         C2B       Airlines      No       0.70  Online         7   2.51   \n",
              "1   36         EPX  Travel Agency      No       0.00  Online        34  20.00   \n",
              "2   39         CWT  Travel Agency      No       5.94  Online         3   9.90   \n",
              "3   36         EPX  Travel Agency      No       0.00  Online         4  26.00   \n",
              "4   33         JZI       Airlines      No       6.30  Online        53  18.00   \n",
              "\n",
              "        Product Name Destination  \n",
              "0    Customised Plan        ASIA  \n",
              "1    Customised Plan        ASIA  \n",
              "2    Customised Plan    Americas  \n",
              "3  Cancellation Plan        ASIA  \n",
              "4        Bronze Plan        ASIA  "
            ],
            "text/html": [
              "\n",
              "  <div id=\"df-f276b26d-e7c4-4854-ae2e-94ff530a1e2c\">\n",
              "    <div class=\"colab-df-container\">\n",
              "      <div>\n",
              "<style scoped>\n",
              "    .dataframe tbody tr th:only-of-type {\n",
              "        vertical-align: middle;\n",
              "    }\n",
              "\n",
              "    .dataframe tbody tr th {\n",
              "        vertical-align: top;\n",
              "    }\n",
              "\n",
              "    .dataframe thead th {\n",
              "        text-align: right;\n",
              "    }\n",
              "</style>\n",
              "<table border=\"1\" class=\"dataframe\">\n",
              "  <thead>\n",
              "    <tr style=\"text-align: right;\">\n",
              "      <th></th>\n",
              "      <th>Age</th>\n",
              "      <th>Agency_Code</th>\n",
              "      <th>Type</th>\n",
              "      <th>Claimed</th>\n",
              "      <th>Commision</th>\n",
              "      <th>Channel</th>\n",
              "      <th>Duration</th>\n",
              "      <th>Sales</th>\n",
              "      <th>Product Name</th>\n",
              "      <th>Destination</th>\n",
              "    </tr>\n",
              "  </thead>\n",
              "  <tbody>\n",
              "    <tr>\n",
              "      <th>0</th>\n",
              "      <td>48</td>\n",
              "      <td>C2B</td>\n",
              "      <td>Airlines</td>\n",
              "      <td>No</td>\n",
              "      <td>0.70</td>\n",
              "      <td>Online</td>\n",
              "      <td>7</td>\n",
              "      <td>2.51</td>\n",
              "      <td>Customised Plan</td>\n",
              "      <td>ASIA</td>\n",
              "    </tr>\n",
              "    <tr>\n",
              "      <th>1</th>\n",
              "      <td>36</td>\n",
              "      <td>EPX</td>\n",
              "      <td>Travel Agency</td>\n",
              "      <td>No</td>\n",
              "      <td>0.00</td>\n",
              "      <td>Online</td>\n",
              "      <td>34</td>\n",
              "      <td>20.00</td>\n",
              "      <td>Customised Plan</td>\n",
              "      <td>ASIA</td>\n",
              "    </tr>\n",
              "    <tr>\n",
              "      <th>2</th>\n",
              "      <td>39</td>\n",
              "      <td>CWT</td>\n",
              "      <td>Travel Agency</td>\n",
              "      <td>No</td>\n",
              "      <td>5.94</td>\n",
              "      <td>Online</td>\n",
              "      <td>3</td>\n",
              "      <td>9.90</td>\n",
              "      <td>Customised Plan</td>\n",
              "      <td>Americas</td>\n",
              "    </tr>\n",
              "    <tr>\n",
              "      <th>3</th>\n",
              "      <td>36</td>\n",
              "      <td>EPX</td>\n",
              "      <td>Travel Agency</td>\n",
              "      <td>No</td>\n",
              "      <td>0.00</td>\n",
              "      <td>Online</td>\n",
              "      <td>4</td>\n",
              "      <td>26.00</td>\n",
              "      <td>Cancellation Plan</td>\n",
              "      <td>ASIA</td>\n",
              "    </tr>\n",
              "    <tr>\n",
              "      <th>4</th>\n",
              "      <td>33</td>\n",
              "      <td>JZI</td>\n",
              "      <td>Airlines</td>\n",
              "      <td>No</td>\n",
              "      <td>6.30</td>\n",
              "      <td>Online</td>\n",
              "      <td>53</td>\n",
              "      <td>18.00</td>\n",
              "      <td>Bronze Plan</td>\n",
              "      <td>ASIA</td>\n",
              "    </tr>\n",
              "  </tbody>\n",
              "</table>\n",
              "</div>\n",
              "      <button class=\"colab-df-convert\" onclick=\"convertToInteractive('df-f276b26d-e7c4-4854-ae2e-94ff530a1e2c')\"\n",
              "              title=\"Convert this dataframe to an interactive table.\"\n",
              "              style=\"display:none;\">\n",
              "        \n",
              "  <svg xmlns=\"http://www.w3.org/2000/svg\" height=\"24px\"viewBox=\"0 0 24 24\"\n",
              "       width=\"24px\">\n",
              "    <path d=\"M0 0h24v24H0V0z\" fill=\"none\"/>\n",
              "    <path d=\"M18.56 5.44l.94 2.06.94-2.06 2.06-.94-2.06-.94-.94-2.06-.94 2.06-2.06.94zm-11 1L8.5 8.5l.94-2.06 2.06-.94-2.06-.94L8.5 2.5l-.94 2.06-2.06.94zm10 10l.94 2.06.94-2.06 2.06-.94-2.06-.94-.94-2.06-.94 2.06-2.06.94z\"/><path d=\"M17.41 7.96l-1.37-1.37c-.4-.4-.92-.59-1.43-.59-.52 0-1.04.2-1.43.59L10.3 9.45l-7.72 7.72c-.78.78-.78 2.05 0 2.83L4 21.41c.39.39.9.59 1.41.59.51 0 1.02-.2 1.41-.59l7.78-7.78 2.81-2.81c.8-.78.8-2.07 0-2.86zM5.41 20L4 18.59l7.72-7.72 1.47 1.35L5.41 20z\"/>\n",
              "  </svg>\n",
              "      </button>\n",
              "      \n",
              "  <style>\n",
              "    .colab-df-container {\n",
              "      display:flex;\n",
              "      flex-wrap:wrap;\n",
              "      gap: 12px;\n",
              "    }\n",
              "\n",
              "    .colab-df-convert {\n",
              "      background-color: #E8F0FE;\n",
              "      border: none;\n",
              "      border-radius: 50%;\n",
              "      cursor: pointer;\n",
              "      display: none;\n",
              "      fill: #1967D2;\n",
              "      height: 32px;\n",
              "      padding: 0 0 0 0;\n",
              "      width: 32px;\n",
              "    }\n",
              "\n",
              "    .colab-df-convert:hover {\n",
              "      background-color: #E2EBFA;\n",
              "      box-shadow: 0px 1px 2px rgba(60, 64, 67, 0.3), 0px 1px 3px 1px rgba(60, 64, 67, 0.15);\n",
              "      fill: #174EA6;\n",
              "    }\n",
              "\n",
              "    [theme=dark] .colab-df-convert {\n",
              "      background-color: #3B4455;\n",
              "      fill: #D2E3FC;\n",
              "    }\n",
              "\n",
              "    [theme=dark] .colab-df-convert:hover {\n",
              "      background-color: #434B5C;\n",
              "      box-shadow: 0px 1px 3px 1px rgba(0, 0, 0, 0.15);\n",
              "      filter: drop-shadow(0px 1px 2px rgba(0, 0, 0, 0.3));\n",
              "      fill: #FFFFFF;\n",
              "    }\n",
              "  </style>\n",
              "\n",
              "      <script>\n",
              "        const buttonEl =\n",
              "          document.querySelector('#df-f276b26d-e7c4-4854-ae2e-94ff530a1e2c button.colab-df-convert');\n",
              "        buttonEl.style.display =\n",
              "          google.colab.kernel.accessAllowed ? 'block' : 'none';\n",
              "\n",
              "        async function convertToInteractive(key) {\n",
              "          const element = document.querySelector('#df-f276b26d-e7c4-4854-ae2e-94ff530a1e2c');\n",
              "          const dataTable =\n",
              "            await google.colab.kernel.invokeFunction('convertToInteractive',\n",
              "                                                     [key], {});\n",
              "          if (!dataTable) return;\n",
              "\n",
              "          const docLinkHtml = 'Like what you see? Visit the ' +\n",
              "            '<a target=\"_blank\" href=https://colab.research.google.com/notebooks/data_table.ipynb>data table notebook</a>'\n",
              "            + ' to learn more about interactive tables.';\n",
              "          element.innerHTML = '';\n",
              "          dataTable['output_type'] = 'display_data';\n",
              "          await google.colab.output.renderOutput(dataTable, element);\n",
              "          const docLink = document.createElement('div');\n",
              "          docLink.innerHTML = docLinkHtml;\n",
              "          element.appendChild(docLink);\n",
              "        }\n",
              "      </script>\n",
              "    </div>\n",
              "  </div>\n",
              "  "
            ]
          },
          "metadata": {},
          "execution_count": 15
        }
      ]
    },
    {
      "cell_type": "code",
      "source": [
        "df.info()"
      ],
      "metadata": {
        "colab": {
          "base_uri": "https://localhost:8080/"
        },
        "id": "mbChHCexYR0J",
        "outputId": "5c9b8485-a966-4ae0-e0b6-31008e2d806c"
      },
      "execution_count": null,
      "outputs": [
        {
          "output_type": "stream",
          "name": "stdout",
          "text": [
            "<class 'pandas.core.frame.DataFrame'>\n",
            "RangeIndex: 3000 entries, 0 to 2999\n",
            "Data columns (total 10 columns):\n",
            " #   Column        Non-Null Count  Dtype  \n",
            "---  ------        --------------  -----  \n",
            " 0   Age           3000 non-null   int64  \n",
            " 1   Agency_Code   3000 non-null   object \n",
            " 2   Type          3000 non-null   object \n",
            " 3   Claimed       3000 non-null   object \n",
            " 4   Commision     3000 non-null   float64\n",
            " 5   Channel       3000 non-null   object \n",
            " 6   Duration      3000 non-null   int64  \n",
            " 7   Sales         3000 non-null   float64\n",
            " 8   Product Name  3000 non-null   object \n",
            " 9   Destination   3000 non-null   object \n",
            "dtypes: float64(2), int64(2), object(6)\n",
            "memory usage: 234.5+ KB\n"
          ]
        }
      ]
    },
    {
      "cell_type": "code",
      "source": [
        "for feature in df.columns: \n",
        "    if df[feature].dtype == 'object':\n",
        "        df[feature] = pd.Categorical(df[feature]).codes "
      ],
      "metadata": {
        "id": "OfXxZknk7xjW"
      },
      "execution_count": 89,
      "outputs": []
    },
    {
      "cell_type": "code",
      "source": [
        "df.info()"
      ],
      "metadata": {
        "colab": {
          "base_uri": "https://localhost:8080/"
        },
        "id": "w31lNqai78P_",
        "outputId": "8206f9d9-4e5e-439d-aa2e-4b9a91fd9141"
      },
      "execution_count": 90,
      "outputs": [
        {
          "output_type": "stream",
          "name": "stdout",
          "text": [
            "<class 'pandas.core.frame.DataFrame'>\n",
            "RangeIndex: 3000 entries, 0 to 2999\n",
            "Data columns (total 9 columns):\n",
            " #   Column        Non-Null Count  Dtype  \n",
            "---  ------        --------------  -----  \n",
            " 0   Agency_Code   3000 non-null   int8   \n",
            " 1   Type          3000 non-null   int8   \n",
            " 2   Claimed       3000 non-null   int8   \n",
            " 3   Commision     3000 non-null   float64\n",
            " 4   Channel       3000 non-null   int8   \n",
            " 5   Duration      3000 non-null   int64  \n",
            " 6   Sales         3000 non-null   float64\n",
            " 7   Product Name  3000 non-null   int8   \n",
            " 8   Destination   3000 non-null   int8   \n",
            "dtypes: float64(2), int64(1), int8(6)\n",
            "memory usage: 88.0 KB\n"
          ]
        }
      ]
    },
    {
      "cell_type": "code",
      "source": [
        "df.describe()"
      ],
      "metadata": {
        "colab": {
          "base_uri": "https://localhost:8080/",
          "height": 300
        },
        "id": "ci5J4z_7YR2c",
        "outputId": "08e4a64e-71a0-4af0-8b9d-06d9e0fb10f7"
      },
      "execution_count": null,
      "outputs": [
        {
          "output_type": "execute_result",
          "data": {
            "text/plain": [
              "               Age    Commision     Duration        Sales\n",
              "count  3000.000000  3000.000000  3000.000000  3000.000000\n",
              "mean     38.091000    14.529203    70.001333    60.249913\n",
              "std      10.463518    25.481455   134.053313    70.733954\n",
              "min       8.000000     0.000000    -1.000000     0.000000\n",
              "25%      32.000000     0.000000    11.000000    20.000000\n",
              "50%      36.000000     4.630000    26.500000    33.000000\n",
              "75%      42.000000    17.235000    63.000000    69.000000\n",
              "max      84.000000   210.210000  4580.000000   539.000000"
            ],
            "text/html": [
              "\n",
              "  <div id=\"df-9c0e7884-6aa8-4068-9345-f8c6cf816082\">\n",
              "    <div class=\"colab-df-container\">\n",
              "      <div>\n",
              "<style scoped>\n",
              "    .dataframe tbody tr th:only-of-type {\n",
              "        vertical-align: middle;\n",
              "    }\n",
              "\n",
              "    .dataframe tbody tr th {\n",
              "        vertical-align: top;\n",
              "    }\n",
              "\n",
              "    .dataframe thead th {\n",
              "        text-align: right;\n",
              "    }\n",
              "</style>\n",
              "<table border=\"1\" class=\"dataframe\">\n",
              "  <thead>\n",
              "    <tr style=\"text-align: right;\">\n",
              "      <th></th>\n",
              "      <th>Age</th>\n",
              "      <th>Commision</th>\n",
              "      <th>Duration</th>\n",
              "      <th>Sales</th>\n",
              "    </tr>\n",
              "  </thead>\n",
              "  <tbody>\n",
              "    <tr>\n",
              "      <th>count</th>\n",
              "      <td>3000.000000</td>\n",
              "      <td>3000.000000</td>\n",
              "      <td>3000.000000</td>\n",
              "      <td>3000.000000</td>\n",
              "    </tr>\n",
              "    <tr>\n",
              "      <th>mean</th>\n",
              "      <td>38.091000</td>\n",
              "      <td>14.529203</td>\n",
              "      <td>70.001333</td>\n",
              "      <td>60.249913</td>\n",
              "    </tr>\n",
              "    <tr>\n",
              "      <th>std</th>\n",
              "      <td>10.463518</td>\n",
              "      <td>25.481455</td>\n",
              "      <td>134.053313</td>\n",
              "      <td>70.733954</td>\n",
              "    </tr>\n",
              "    <tr>\n",
              "      <th>min</th>\n",
              "      <td>8.000000</td>\n",
              "      <td>0.000000</td>\n",
              "      <td>-1.000000</td>\n",
              "      <td>0.000000</td>\n",
              "    </tr>\n",
              "    <tr>\n",
              "      <th>25%</th>\n",
              "      <td>32.000000</td>\n",
              "      <td>0.000000</td>\n",
              "      <td>11.000000</td>\n",
              "      <td>20.000000</td>\n",
              "    </tr>\n",
              "    <tr>\n",
              "      <th>50%</th>\n",
              "      <td>36.000000</td>\n",
              "      <td>4.630000</td>\n",
              "      <td>26.500000</td>\n",
              "      <td>33.000000</td>\n",
              "    </tr>\n",
              "    <tr>\n",
              "      <th>75%</th>\n",
              "      <td>42.000000</td>\n",
              "      <td>17.235000</td>\n",
              "      <td>63.000000</td>\n",
              "      <td>69.000000</td>\n",
              "    </tr>\n",
              "    <tr>\n",
              "      <th>max</th>\n",
              "      <td>84.000000</td>\n",
              "      <td>210.210000</td>\n",
              "      <td>4580.000000</td>\n",
              "      <td>539.000000</td>\n",
              "    </tr>\n",
              "  </tbody>\n",
              "</table>\n",
              "</div>\n",
              "      <button class=\"colab-df-convert\" onclick=\"convertToInteractive('df-9c0e7884-6aa8-4068-9345-f8c6cf816082')\"\n",
              "              title=\"Convert this dataframe to an interactive table.\"\n",
              "              style=\"display:none;\">\n",
              "        \n",
              "  <svg xmlns=\"http://www.w3.org/2000/svg\" height=\"24px\"viewBox=\"0 0 24 24\"\n",
              "       width=\"24px\">\n",
              "    <path d=\"M0 0h24v24H0V0z\" fill=\"none\"/>\n",
              "    <path d=\"M18.56 5.44l.94 2.06.94-2.06 2.06-.94-2.06-.94-.94-2.06-.94 2.06-2.06.94zm-11 1L8.5 8.5l.94-2.06 2.06-.94-2.06-.94L8.5 2.5l-.94 2.06-2.06.94zm10 10l.94 2.06.94-2.06 2.06-.94-2.06-.94-.94-2.06-.94 2.06-2.06.94z\"/><path d=\"M17.41 7.96l-1.37-1.37c-.4-.4-.92-.59-1.43-.59-.52 0-1.04.2-1.43.59L10.3 9.45l-7.72 7.72c-.78.78-.78 2.05 0 2.83L4 21.41c.39.39.9.59 1.41.59.51 0 1.02-.2 1.41-.59l7.78-7.78 2.81-2.81c.8-.78.8-2.07 0-2.86zM5.41 20L4 18.59l7.72-7.72 1.47 1.35L5.41 20z\"/>\n",
              "  </svg>\n",
              "      </button>\n",
              "      \n",
              "  <style>\n",
              "    .colab-df-container {\n",
              "      display:flex;\n",
              "      flex-wrap:wrap;\n",
              "      gap: 12px;\n",
              "    }\n",
              "\n",
              "    .colab-df-convert {\n",
              "      background-color: #E8F0FE;\n",
              "      border: none;\n",
              "      border-radius: 50%;\n",
              "      cursor: pointer;\n",
              "      display: none;\n",
              "      fill: #1967D2;\n",
              "      height: 32px;\n",
              "      padding: 0 0 0 0;\n",
              "      width: 32px;\n",
              "    }\n",
              "\n",
              "    .colab-df-convert:hover {\n",
              "      background-color: #E2EBFA;\n",
              "      box-shadow: 0px 1px 2px rgba(60, 64, 67, 0.3), 0px 1px 3px 1px rgba(60, 64, 67, 0.15);\n",
              "      fill: #174EA6;\n",
              "    }\n",
              "\n",
              "    [theme=dark] .colab-df-convert {\n",
              "      background-color: #3B4455;\n",
              "      fill: #D2E3FC;\n",
              "    }\n",
              "\n",
              "    [theme=dark] .colab-df-convert:hover {\n",
              "      background-color: #434B5C;\n",
              "      box-shadow: 0px 1px 3px 1px rgba(0, 0, 0, 0.15);\n",
              "      filter: drop-shadow(0px 1px 2px rgba(0, 0, 0, 0.3));\n",
              "      fill: #FFFFFF;\n",
              "    }\n",
              "  </style>\n",
              "\n",
              "      <script>\n",
              "        const buttonEl =\n",
              "          document.querySelector('#df-9c0e7884-6aa8-4068-9345-f8c6cf816082 button.colab-df-convert');\n",
              "        buttonEl.style.display =\n",
              "          google.colab.kernel.accessAllowed ? 'block' : 'none';\n",
              "\n",
              "        async function convertToInteractive(key) {\n",
              "          const element = document.querySelector('#df-9c0e7884-6aa8-4068-9345-f8c6cf816082');\n",
              "          const dataTable =\n",
              "            await google.colab.kernel.invokeFunction('convertToInteractive',\n",
              "                                                     [key], {});\n",
              "          if (!dataTable) return;\n",
              "\n",
              "          const docLinkHtml = 'Like what you see? Visit the ' +\n",
              "            '<a target=\"_blank\" href=https://colab.research.google.com/notebooks/data_table.ipynb>data table notebook</a>'\n",
              "            + ' to learn more about interactive tables.';\n",
              "          element.innerHTML = '';\n",
              "          dataTable['output_type'] = 'display_data';\n",
              "          await google.colab.output.renderOutput(dataTable, element);\n",
              "          const docLink = document.createElement('div');\n",
              "          docLink.innerHTML = docLinkHtml;\n",
              "          element.appendChild(docLink);\n",
              "        }\n",
              "      </script>\n",
              "    </div>\n",
              "  </div>\n",
              "  "
            ]
          },
          "metadata": {},
          "execution_count": 17
        }
      ]
    },
    {
      "cell_type": "code",
      "source": [
        "df.shape"
      ],
      "metadata": {
        "colab": {
          "base_uri": "https://localhost:8080/"
        },
        "id": "E9FPhb-4YR6G",
        "outputId": "3321f26a-d3e5-4450-a4ca-36e9157f79c2"
      },
      "execution_count": null,
      "outputs": [
        {
          "output_type": "execute_result",
          "data": {
            "text/plain": [
              "(3000, 10)"
            ]
          },
          "metadata": {},
          "execution_count": 18
        }
      ]
    },
    {
      "cell_type": "code",
      "source": [
        "# Are there any missing values ?\n",
        "df.isnull().sum()"
      ],
      "metadata": {
        "colab": {
          "base_uri": "https://localhost:8080/"
        },
        "id": "2uxfqp4GYR8v",
        "outputId": "1979d9ff-71bf-42c2-833d-6de3075a3116"
      },
      "execution_count": null,
      "outputs": [
        {
          "output_type": "execute_result",
          "data": {
            "text/plain": [
              "Age             0\n",
              "Agency_Code     0\n",
              "Type            0\n",
              "Claimed         0\n",
              "Commision       0\n",
              "Channel         0\n",
              "Duration        0\n",
              "Sales           0\n",
              "Product Name    0\n",
              "Destination     0\n",
              "dtype: int64"
            ]
          },
          "metadata": {},
          "execution_count": 19
        }
      ]
    },
    {
      "cell_type": "code",
      "source": [
        "df.Type\n"
      ],
      "metadata": {
        "colab": {
          "base_uri": "https://localhost:8080/"
        },
        "id": "YsXocM0YYR-5",
        "outputId": "c4c398fa-efb3-4c69-c4d4-41071f2b45a5"
      },
      "execution_count": null,
      "outputs": [
        {
          "output_type": "execute_result",
          "data": {
            "text/plain": [
              "0            Airlines\n",
              "1       Travel Agency\n",
              "2       Travel Agency\n",
              "3       Travel Agency\n",
              "4            Airlines\n",
              "            ...      \n",
              "2995    Travel Agency\n",
              "2996         Airlines\n",
              "2997    Travel Agency\n",
              "2998         Airlines\n",
              "2999         Airlines\n",
              "Name: Type, Length: 3000, dtype: object"
            ]
          },
          "metadata": {},
          "execution_count": 20
        }
      ]
    },
    {
      "cell_type": "code",
      "source": [
        "df.boxplot(figsize=(15,6))\n",
        "plt.xticks(rotation=90)\n",
        "plt.show()"
      ],
      "metadata": {
        "id": "2rzhAUdlYSAm",
        "colab": {
          "base_uri": "https://localhost:8080/",
          "height": 312
        },
        "outputId": "8d2d2941-2639-4beb-f726-7a1e5e1ad67f"
      },
      "execution_count": null,
      "outputs": [
        {
          "output_type": "display_data",
          "data": {
            "text/plain": [
              "<Figure size 1080x432 with 1 Axes>"
            ],
            "image/png": "[encoded data removed]"
          },
          "metadata": {
            "needs_background": "light"
          }
        }
      ]
    },
    {
      "cell_type": "code",
      "source": [
        "sns.pairplot(df)\n",
        "plt.show();"
      ],
      "metadata": {
        "colab": {
          "base_uri": "https://localhost:8080/",
          "height": 662
        },
        "id": "UVrWzJyGbMsd",
        "outputId": "22d763a2-1038-4135-963c-b437b7ad0619"
      },
      "execution_count": null,
      "outputs": [
        {
          "output_type": "display_data",
          "data": {
            "text/plain": [
              "<Figure size 720x720 with 20 Axes>"
            ],
            "image/png": "[encoded data removed]"
          },
          "metadata": {
            "needs_background": "light"
          }
        }
      ]
    },
    {
      "cell_type": "code",
      "source": [
        "# construct heatmap with only continuous variables\n",
        "plt.figure(figsize=(10,8))\n",
        "sns.set(font_scale=1.2)\n",
        "sns.heatmap(df.corr(), annot=True)"
      ],
      "metadata": {
        "colab": {
          "base_uri": "https://localhost:8080/",
          "height": 510
        },
        "id": "le5eLkfybM3B",
        "outputId": "2b13be16-174d-4161-aee8-7d88d6934345"
      },
      "execution_count": null,
      "outputs": [
        {
          "output_type": "execute_result",
          "data": {
            "text/plain": [
              "<matplotlib.axes._subplots.AxesSubplot at 0x7fc3df48d210>"
            ]
          },
          "metadata": {},
          "execution_count": 29
        },
        {
          "output_type": "display_data",
          "data": {
            "text/plain": [
              "<Figure size 720x576 with 2 Axes>"
            ],
            "image/png": "[encoded data removed]"
          },
          "metadata": {
            "needs_background": "light"
          }
        }
      ]
    },
    {
      "cell_type": "code",
      "source": [],
      "metadata": {
        "id": "8UqLNvogbM6Z"
      },
      "execution_count": null,
      "outputs": []
    },
    {
      "cell_type": "markdown",
      "source": [
        "***2.2 Data Split: Split the data into test and train(1 pts), build classification model CART (1.5 pts), Random Forest (1.5 pts), Artificial Neural Network(1.5 pts). Object data should be converted into categorical/numerical data to fit in the models. (pd.categorical().codes(), pd.get_dummies(drop_first=True)) Data split, ratio defined for the split, train-test split should be discussed. Any reasonable split is acceptable. Use of random state is mandatory. Successful implementation of each model. Logical reason behind the selection of different values for the parameters involved in each model. Apply grid search for each model and make models on best_params. Feature importance for each model.***"
      ],
      "metadata": {
        "id": "8-MMMZxRNWBW"
      }
    },
    {
      "cell_type": "code",
      "source": [
        "df.head()"
      ],
      "metadata": {
        "colab": {
          "base_uri": "https://localhost:8080/",
          "height": 206
        },
        "id": "DuvNXPkq8JVT",
        "outputId": "885fa4e9-a6b4-4505-8598-c48f5a6d4e9e"
      },
      "execution_count": 92,
      "outputs": [
        {
          "output_type": "execute_result",
          "data": {
            "text/plain": [
              "   Agency_Code  Type  Claimed  Commision  Channel  Duration  Sales  \\\n",
              "0            0     0        0       0.70        1         7   2.51   \n",
              "1            2     1        0       0.00        1        34  20.00   \n",
              "2            1     1        0       5.94        1         3   9.90   \n",
              "3            2     1        0       0.00        1         4  26.00   \n",
              "4            3     0        0       6.30        1        53  18.00   \n",
              "\n",
              "   Product Name  Destination  \n",
              "0             2            0  \n",
              "1             2            0  \n",
              "2             2            1  \n",
              "3             1            0  \n",
              "4             0            0  "
            ],
            "text/html": [
              "\n",
              "  <div id=\"df-baecb3e4-03e6-4727-a4af-9872cdfafb22\">\n",
              "    <div class=\"colab-df-container\">\n",
              "      <div>\n",
              "<style scoped>\n",
              "    .dataframe tbody tr th:only-of-type {\n",
              "        vertical-align: middle;\n",
              "    }\n",
              "\n",
              "    .dataframe tbody tr th {\n",
              "        vertical-align: top;\n",
              "    }\n",
              "\n",
              "    .dataframe thead th {\n",
              "        text-align: right;\n",
              "    }\n",
              "</style>\n",
              "<table border=\"1\" class=\"dataframe\">\n",
              "  <thead>\n",
              "    <tr style=\"text-align: right;\">\n",
              "      <th></th>\n",
              "      <th>Agency_Code</th>\n",
              "      <th>Type</th>\n",
              "      <th>Claimed</th>\n",
              "      <th>Commision</th>\n",
              "      <th>Channel</th>\n",
              "      <th>Duration</th>\n",
              "      <th>Sales</th>\n",
              "      <th>Product Name</th>\n",
              "      <th>Destination</th>\n",
              "    </tr>\n",
              "  </thead>\n",
              "  <tbody>\n",
              "    <tr>\n",
              "      <th>0</th>\n",
              "      <td>0</td>\n",
              "      <td>0</td>\n",
              "      <td>0</td>\n",
              "      <td>0.70</td>\n",
              "      <td>1</td>\n",
              "      <td>7</td>\n",
              "      <td>2.51</td>\n",
              "      <td>2</td>\n",
              "      <td>0</td>\n",
              "    </tr>\n",
              "    <tr>\n",
              "      <th>1</th>\n",
              "      <td>2</td>\n",
              "      <td>1</td>\n",
              "      <td>0</td>\n",
              "      <td>0.00</td>\n",
              "      <td>1</td>\n",
              "      <td>34</td>\n",
              "      <td>20.00</td>\n",
              "      <td>2</td>\n",
              "      <td>0</td>\n",
              "    </tr>\n",
              "    <tr>\n",
              "      <th>2</th>\n",
              "      <td>1</td>\n",
              "      <td>1</td>\n",
              "      <td>0</td>\n",
              "      <td>5.94</td>\n",
              "      <td>1</td>\n",
              "      <td>3</td>\n",
              "      <td>9.90</td>\n",
              "      <td>2</td>\n",
              "      <td>1</td>\n",
              "    </tr>\n",
              "    <tr>\n",
              "      <th>3</th>\n",
              "      <td>2</td>\n",
              "      <td>1</td>\n",
              "      <td>0</td>\n",
              "      <td>0.00</td>\n",
              "      <td>1</td>\n",
              "      <td>4</td>\n",
              "      <td>26.00</td>\n",
              "      <td>1</td>\n",
              "      <td>0</td>\n",
              "    </tr>\n",
              "    <tr>\n",
              "      <th>4</th>\n",
              "      <td>3</td>\n",
              "      <td>0</td>\n",
              "      <td>0</td>\n",
              "      <td>6.30</td>\n",
              "      <td>1</td>\n",
              "      <td>53</td>\n",
              "      <td>18.00</td>\n",
              "      <td>0</td>\n",
              "      <td>0</td>\n",
              "    </tr>\n",
              "  </tbody>\n",
              "</table>\n",
              "</div>\n",
              "      <button class=\"colab-df-convert\" onclick=\"convertToInteractive('df-baecb3e4-03e6-4727-a4af-9872cdfafb22')\"\n",
              "              title=\"Convert this dataframe to an interactive table.\"\n",
              "              style=\"display:none;\">\n",
              "        \n",
              "  <svg xmlns=\"http://www.w3.org/2000/svg\" height=\"24px\"viewBox=\"0 0 24 24\"\n",
              "       width=\"24px\">\n",
              "    <path d=\"M0 0h24v24H0V0z\" fill=\"none\"/>\n",
              "    <path d=\"M18.56 5.44l.94 2.06.94-2.06 2.06-.94-2.06-.94-.94-2.06-.94 2.06-2.06.94zm-11 1L8.5 8.5l.94-2.06 2.06-.94-2.06-.94L8.5 2.5l-.94 2.06-2.06.94zm10 10l.94 2.06.94-2.06 2.06-.94-2.06-.94-.94-2.06-.94 2.06-2.06.94z\"/><path d=\"M17.41 7.96l-1.37-1.37c-.4-.4-.92-.59-1.43-.59-.52 0-1.04.2-1.43.59L10.3 9.45l-7.72 7.72c-.78.78-.78 2.05 0 2.83L4 21.41c.39.39.9.59 1.41.59.51 0 1.02-.2 1.41-.59l7.78-7.78 2.81-2.81c.8-.78.8-2.07 0-2.86zM5.41 20L4 18.59l7.72-7.72 1.47 1.35L5.41 20z\"/>\n",
              "  </svg>\n",
              "      </button>\n",
              "      \n",
              "  <style>\n",
              "    .colab-df-container {\n",
              "      display:flex;\n",
              "      flex-wrap:wrap;\n",
              "      gap: 12px;\n",
              "    }\n",
              "\n",
              "    .colab-df-convert {\n",
              "      background-color: #E8F0FE;\n",
              "      border: none;\n",
              "      border-radius: 50%;\n",
              "      cursor: pointer;\n",
              "      display: none;\n",
              "      fill: #1967D2;\n",
              "      height: 32px;\n",
              "      padding: 0 0 0 0;\n",
              "      width: 32px;\n",
              "    }\n",
              "\n",
              "    .colab-df-convert:hover {\n",
              "      background-color: #E2EBFA;\n",
              "      box-shadow: 0px 1px 2px rgba(60, 64, 67, 0.3), 0px 1px 3px 1px rgba(60, 64, 67, 0.15);\n",
              "      fill: #174EA6;\n",
              "    }\n",
              "\n",
              "    [theme=dark] .colab-df-convert {\n",
              "      background-color: #3B4455;\n",
              "      fill: #D2E3FC;\n",
              "    }\n",
              "\n",
              "    [theme=dark] .colab-df-convert:hover {\n",
              "      background-color: #434B5C;\n",
              "      box-shadow: 0px 1px 3px 1px rgba(0, 0, 0, 0.15);\n",
              "      filter: drop-shadow(0px 1px 2px rgba(0, 0, 0, 0.3));\n",
              "      fill: #FFFFFF;\n",
              "    }\n",
              "  </style>\n",
              "\n",
              "      <script>\n",
              "        const buttonEl =\n",
              "          document.querySelector('#df-baecb3e4-03e6-4727-a4af-9872cdfafb22 button.colab-df-convert');\n",
              "        buttonEl.style.display =\n",
              "          google.colab.kernel.accessAllowed ? 'block' : 'none';\n",
              "\n",
              "        async function convertToInteractive(key) {\n",
              "          const element = document.querySelector('#df-baecb3e4-03e6-4727-a4af-9872cdfafb22');\n",
              "          const dataTable =\n",
              "            await google.colab.kernel.invokeFunction('convertToInteractive',\n",
              "                                                     [key], {});\n",
              "          if (!dataTable) return;\n",
              "\n",
              "          const docLinkHtml = 'Like what you see? Visit the ' +\n",
              "            '<a target=\"_blank\" href=https://colab.research.google.com/notebooks/data_table.ipynb>data table notebook</a>'\n",
              "            + ' to learn more about interactive tables.';\n",
              "          element.innerHTML = '';\n",
              "          dataTable['output_type'] = 'display_data';\n",
              "          await google.colab.output.renderOutput(dataTable, element);\n",
              "          const docLink = document.createElement('div');\n",
              "          docLink.innerHTML = docLinkHtml;\n",
              "          element.appendChild(docLink);\n",
              "        }\n",
              "      </script>\n",
              "    </div>\n",
              "  </div>\n",
              "  "
            ]
          },
          "metadata": {},
          "execution_count": 92
        }
      ]
    },
    {
      "cell_type": "code",
      "source": [
        "X = df.drop(\"Product Name\", axis=1)\n",
        "\n",
        "y = df.pop(\"Product Name\")\n",
        "X.head()\n"
      ],
      "metadata": {
        "colab": {
          "base_uri": "https://localhost:8080/",
          "height": 206
        },
        "id": "VKAQK83DcTVX",
        "outputId": "a6298b89-eac7-4440-e41a-53075f4308d3"
      },
      "execution_count": 93,
      "outputs": [
        {
          "output_type": "execute_result",
          "data": {
            "text/plain": [
              "   Agency_Code  Type  Claimed  Commision  Channel  Duration  Sales  \\\n",
              "0            0     0        0       0.70        1         7   2.51   \n",
              "1            2     1        0       0.00        1        34  20.00   \n",
              "2            1     1        0       5.94        1         3   9.90   \n",
              "3            2     1        0       0.00        1         4  26.00   \n",
              "4            3     0        0       6.30        1        53  18.00   \n",
              "\n",
              "   Destination  \n",
              "0            0  \n",
              "1            0  \n",
              "2            1  \n",
              "3            0  \n",
              "4            0  "
            ],
            "text/html": [
              "\n",
              "  <div id=\"df-3f5f06de-8ccb-4253-8457-bd9c07b9a1fb\">\n",
              "    <div class=\"colab-df-container\">\n",
              "      <div>\n",
              "<style scoped>\n",
              "    .dataframe tbody tr th:only-of-type {\n",
              "        vertical-align: middle;\n",
              "    }\n",
              "\n",
              "    .dataframe tbody tr th {\n",
              "        vertical-align: top;\n",
              "    }\n",
              "\n",
              "    .dataframe thead th {\n",
              "        text-align: right;\n",
              "    }\n",
              "</style>\n",
              "<table border=\"1\" class=\"dataframe\">\n",
              "  <thead>\n",
              "    <tr style=\"text-align: right;\">\n",
              "      <th></th>\n",
              "      <th>Agency_Code</th>\n",
              "      <th>Type</th>\n",
              "      <th>Claimed</th>\n",
              "      <th>Commision</th>\n",
              "      <th>Channel</th>\n",
              "      <th>Duration</th>\n",
              "      <th>Sales</th>\n",
              "      <th>Destination</th>\n",
              "    </tr>\n",
              "  </thead>\n",
              "  <tbody>\n",
              "    <tr>\n",
              "      <th>0</th>\n",
              "      <td>0</td>\n",
              "      <td>0</td>\n",
              "      <td>0</td>\n",
              "      <td>0.70</td>\n",
              "      <td>1</td>\n",
              "      <td>7</td>\n",
              "      <td>2.51</td>\n",
              "      <td>0</td>\n",
              "    </tr>\n",
              "    <tr>\n",
              "      <th>1</th>\n",
              "      <td>2</td>\n",
              "      <td>1</td>\n",
              "      <td>0</td>\n",
              "      <td>0.00</td>\n",
              "      <td>1</td>\n",
              "      <td>34</td>\n",
              "      <td>20.00</td>\n",
              "      <td>0</td>\n",
              "    </tr>\n",
              "    <tr>\n",
              "      <th>2</th>\n",
              "      <td>1</td>\n",
              "      <td>1</td>\n",
              "      <td>0</td>\n",
              "      <td>5.94</td>\n",
              "      <td>1</td>\n",
              "      <td>3</td>\n",
              "      <td>9.90</td>\n",
              "      <td>1</td>\n",
              "    </tr>\n",
              "    <tr>\n",
              "      <th>3</th>\n",
              "      <td>2</td>\n",
              "      <td>1</td>\n",
              "      <td>0</td>\n",
              "      <td>0.00</td>\n",
              "      <td>1</td>\n",
              "      <td>4</td>\n",
              "      <td>26.00</td>\n",
              "      <td>0</td>\n",
              "    </tr>\n",
              "    <tr>\n",
              "      <th>4</th>\n",
              "      <td>3</td>\n",
              "      <td>0</td>\n",
              "      <td>0</td>\n",
              "      <td>6.30</td>\n",
              "      <td>1</td>\n",
              "      <td>53</td>\n",
              "      <td>18.00</td>\n",
              "      <td>0</td>\n",
              "    </tr>\n",
              "  </tbody>\n",
              "</table>\n",
              "</div>\n",
              "      <button class=\"colab-df-convert\" onclick=\"convertToInteractive('df-3f5f06de-8ccb-4253-8457-bd9c07b9a1fb')\"\n",
              "              title=\"Convert this dataframe to an interactive table.\"\n",
              "              style=\"display:none;\">\n",
              "        \n",
              "  <svg xmlns=\"http://www.w3.org/2000/svg\" height=\"24px\"viewBox=\"0 0 24 24\"\n",
              "       width=\"24px\">\n",
              "    <path d=\"M0 0h24v24H0V0z\" fill=\"none\"/>\n",
              "    <path d=\"M18.56 5.44l.94 2.06.94-2.06 2.06-.94-2.06-.94-.94-2.06-.94 2.06-2.06.94zm-11 1L8.5 8.5l.94-2.06 2.06-.94-2.06-.94L8.5 2.5l-.94 2.06-2.06.94zm10 10l.94 2.06.94-2.06 2.06-.94-2.06-.94-.94-2.06-.94 2.06-2.06.94z\"/><path d=\"M17.41 7.96l-1.37-1.37c-.4-.4-.92-.59-1.43-.59-.52 0-1.04.2-1.43.59L10.3 9.45l-7.72 7.72c-.78.78-.78 2.05 0 2.83L4 21.41c.39.39.9.59 1.41.59.51 0 1.02-.2 1.41-.59l7.78-7.78 2.81-2.81c.8-.78.8-2.07 0-2.86zM5.41 20L4 18.59l7.72-7.72 1.47 1.35L5.41 20z\"/>\n",
              "  </svg>\n",
              "      </button>\n",
              "      \n",
              "  <style>\n",
              "    .colab-df-container {\n",
              "      display:flex;\n",
              "      flex-wrap:wrap;\n",
              "      gap: 12px;\n",
              "    }\n",
              "\n",
              "    .colab-df-convert {\n",
              "      background-color: #E8F0FE;\n",
              "      border: none;\n",
              "      border-radius: 50%;\n",
              "      cursor: pointer;\n",
              "      display: none;\n",
              "      fill: #1967D2;\n",
              "      height: 32px;\n",
              "      padding: 0 0 0 0;\n",
              "      width: 32px;\n",
              "    }\n",
              "\n",
              "    .colab-df-convert:hover {\n",
              "      background-color: #E2EBFA;\n",
              "      box-shadow: 0px 1px 2px rgba(60, 64, 67, 0.3), 0px 1px 3px 1px rgba(60, 64, 67, 0.15);\n",
              "      fill: #174EA6;\n",
              "    }\n",
              "\n",
              "    [theme=dark] .colab-df-convert {\n",
              "      background-color: #3B4455;\n",
              "      fill: #D2E3FC;\n",
              "    }\n",
              "\n",
              "    [theme=dark] .colab-df-convert:hover {\n",
              "      background-color: #434B5C;\n",
              "      box-shadow: 0px 1px 3px 1px rgba(0, 0, 0, 0.15);\n",
              "      filter: drop-shadow(0px 1px 2px rgba(0, 0, 0, 0.3));\n",
              "      fill: #FFFFFF;\n",
              "    }\n",
              "  </style>\n",
              "\n",
              "      <script>\n",
              "        const buttonEl =\n",
              "          document.querySelector('#df-3f5f06de-8ccb-4253-8457-bd9c07b9a1fb button.colab-df-convert');\n",
              "        buttonEl.style.display =\n",
              "          google.colab.kernel.accessAllowed ? 'block' : 'none';\n",
              "\n",
              "        async function convertToInteractive(key) {\n",
              "          const element = document.querySelector('#df-3f5f06de-8ccb-4253-8457-bd9c07b9a1fb');\n",
              "          const dataTable =\n",
              "            await google.colab.kernel.invokeFunction('convertToInteractive',\n",
              "                                                     [key], {});\n",
              "          if (!dataTable) return;\n",
              "\n",
              "          const docLinkHtml = 'Like what you see? Visit the ' +\n",
              "            '<a target=\"_blank\" href=https://colab.research.google.com/notebooks/data_table.ipynb>data table notebook</a>'\n",
              "            + ' to learn more about interactive tables.';\n",
              "          element.innerHTML = '';\n",
              "          dataTable['output_type'] = 'display_data';\n",
              "          await google.colab.output.renderOutput(dataTable, element);\n",
              "          const docLink = document.createElement('div');\n",
              "          docLink.innerHTML = docLinkHtml;\n",
              "          element.appendChild(docLink);\n",
              "        }\n",
              "      </script>\n",
              "    </div>\n",
              "  </div>\n",
              "  "
            ]
          },
          "metadata": {},
          "execution_count": 93
        }
      ]
    },
    {
      "cell_type": "code",
      "source": [
        "y.head()"
      ],
      "metadata": {
        "colab": {
          "base_uri": "https://localhost:8080/"
        },
        "id": "HCDkAKCsuYHB",
        "outputId": "b0ab9588-d676-46e2-c334-4eb4c7c64e88"
      },
      "execution_count": 94,
      "outputs": [
        {
          "output_type": "execute_result",
          "data": {
            "text/plain": [
              "0    2\n",
              "1    2\n",
              "2    2\n",
              "3    1\n",
              "4    0\n",
              "Name: Product Name, dtype: int8"
            ]
          },
          "metadata": {},
          "execution_count": 94
        }
      ]
    },
    {
      "cell_type": "code",
      "source": [
        "from sklearn.model_selection import train_test_split\n",
        "\n",
        "X_train, X_test, train_labels, test_labels = train_test_split(X, y, test_size=.30, random_state=1)\n"
      ],
      "metadata": {
        "id": "u1zYSPlbcTYr"
      },
      "execution_count": 95,
      "outputs": []
    },
    {
      "cell_type": "code",
      "source": [
        "\n",
        "\n",
        "print('X_train',X_train.shape)\n",
        "print('X_test',X_test.shape)\n",
        "print('train_labels',train_labels.shape)\n",
        "print('test_labels',test_labels.shape)"
      ],
      "metadata": {
        "id": "oq9hF32rNbaJ",
        "colab": {
          "base_uri": "https://localhost:8080/"
        },
        "outputId": "2ee06539-247c-4b95-d668-71c37af95ec4"
      },
      "execution_count": 96,
      "outputs": [
        {
          "output_type": "stream",
          "name": "stdout",
          "text": [
            "X_train (2100, 8)\n",
            "X_test (900, 8)\n",
            "train_labels (2100,)\n",
            "test_labels (900,)\n"
          ]
        }
      ]
    },
    {
      "cell_type": "code",
      "source": [
        "param_grid = {\n",
        "    'criterion': ['gini'],\n",
        "    'max_depth': [10],#[10,20,30,50]#[3,5,7,9]\n",
        "    'min_samples_leaf': [250],#[100,150,200,250]# 1-3% 50-150\n",
        "    'min_samples_split': [750]#[150,300,450,600,750] # 150 - 450\n",
        "}\n",
        "\n",
        "dtcl = DecisionTreeClassifier()\n",
        "\n",
        "grid_search = GridSearchCV(estimator = dtcl, param_grid = param_grid, cv = 10)\n"
      ],
      "metadata": {
        "id": "9vZdPAugh-4-"
      },
      "execution_count": 97,
      "outputs": []
    },
    {
      "cell_type": "code",
      "source": [
        "grid_search.fit(X_train, train_labels)\n",
        "print(grid_search.best_params_)\n",
        "best_grid = grid_search.best_estimator_\n",
        "best_grid\n",
        "#{'criterion': 'gini', 'max_depth': 10, 'min_samples_leaf': 250, 'min_samples_split': 750}"
      ],
      "metadata": {
        "id": "zmuHcTh0NcWt",
        "colab": {
          "base_uri": "https://localhost:8080/"
        },
        "outputId": "dc727837-d3c1-4981-f74e-4c137e192c10"
      },
      "execution_count": 98,
      "outputs": [
        {
          "output_type": "stream",
          "name": "stdout",
          "text": [
            "{'criterion': 'gini', 'max_depth': 10, 'min_samples_leaf': 250, 'min_samples_split': 750}\n"
          ]
        },
        {
          "output_type": "execute_result",
          "data": {
            "text/plain": [
              "DecisionTreeClassifier(max_depth=10, min_samples_leaf=250,\n",
              "                       min_samples_split=750)"
            ]
          },
          "metadata": {},
          "execution_count": 98
        }
      ]
    },
    {
      "cell_type": "code",
      "source": [
        "param_grid = {#put a grid for hyperparameters\n",
        "    'max_depth': [10],\n",
        "    'max_features': [5],#[5,4,6],\n",
        "    'min_samples_leaf': [250],\n",
        "    'min_samples_split': [750],\n",
        "    'n_estimators': [100]#150,250\n",
        "}\n",
        "\n",
        "rfcl = RandomForestClassifier()\n",
        "\n",
        "grid_search = GridSearchCV(estimator = rfcl, param_grid = param_grid, cv = 10)\n",
        "\n"
      ],
      "metadata": {
        "id": "pjWrlQAXNcaB"
      },
      "execution_count": 99,
      "outputs": []
    },
    {
      "cell_type": "code",
      "source": [
        "grid_search.fit(X_train, train_labels)"
      ],
      "metadata": {
        "id": "4U1Tdc07nsg8",
        "colab": {
          "base_uri": "https://localhost:8080/"
        },
        "outputId": "5b38b573-aa2d-49ce-89f9-533eeb88f79a"
      },
      "execution_count": 100,
      "outputs": [
        {
          "output_type": "execute_result",
          "data": {
            "text/plain": [
              "GridSearchCV(cv=10, estimator=RandomForestClassifier(),\n",
              "             param_grid={'max_depth': [10], 'max_features': [5],\n",
              "                         'min_samples_leaf': [250], 'min_samples_split': [750],\n",
              "                         'n_estimators': [100]})"
            ]
          },
          "metadata": {},
          "execution_count": 100
        }
      ]
    },
    {
      "cell_type": "code",
      "source": [
        "grid_search.best_params_"
      ],
      "metadata": {
        "id": "M7hIIMN6nso7",
        "colab": {
          "base_uri": "https://localhost:8080/"
        },
        "outputId": "2c3bea9c-1479-467b-b281-868fc2628183"
      },
      "execution_count": 101,
      "outputs": [
        {
          "output_type": "execute_result",
          "data": {
            "text/plain": [
              "{'max_depth': 10,\n",
              " 'max_features': 5,\n",
              " 'min_samples_leaf': 250,\n",
              " 'min_samples_split': 750,\n",
              " 'n_estimators': 100}"
            ]
          },
          "metadata": {},
          "execution_count": 101
        }
      ]
    },
    {
      "cell_type": "code",
      "source": [
        "best_grid"
      ],
      "metadata": {
        "colab": {
          "base_uri": "https://localhost:8080/"
        },
        "id": "BhXXDi3Cn90D",
        "outputId": "1efb0410-18be-4f48-823a-63c86ad4d685"
      },
      "execution_count": 102,
      "outputs": [
        {
          "output_type": "execute_result",
          "data": {
            "text/plain": [
              "DecisionTreeClassifier(max_depth=10, min_samples_leaf=250,\n",
              "                       min_samples_split=750)"
            ]
          },
          "metadata": {},
          "execution_count": 102
        }
      ]
    },
    {
      "cell_type": "code",
      "source": [
        "from sklearn.preprocessing import StandardScaler\n",
        "sc = StandardScaler()\n",
        "X_train_scaled = sc.fit_transform(X_train)\n",
        "X_test_scaled = sc.transform(X_test)"
      ],
      "metadata": {
        "id": "fWvFQQ1IoSDh"
      },
      "execution_count": 103,
      "outputs": []
    },
    {
      "cell_type": "code",
      "source": [
        "param_grid = {\n",
        "    'hidden_layer_sizes': [32],#[32,64,128], #Multiple layers(200,120) \n",
        "    'max_iter': [200],\n",
        "    'solver': ['adam'], #sgd\n",
        "}\n",
        "\n",
        "nncl = MLPClassifier(early_stopping = True, tol = 0.01)\n",
        "\n",
        "grid_search = GridSearchCV(estimator = nncl, param_grid = param_grid, cv = 10)"
      ],
      "metadata": {
        "id": "gYgb9NWwp1i3"
      },
      "execution_count": 104,
      "outputs": []
    },
    {
      "cell_type": "code",
      "source": [
        "grid_search.fit(X_train_scaled, train_labels)\n",
        "grid_search.best_params_\n",
        "#{'hidden_layer_sizes': 32, 'max_iter': 200, 'solver': 'adam', 'tol': 0.01}"
      ],
      "metadata": {
        "id": "7SyO1_Vip6Z2",
        "colab": {
          "base_uri": "https://localhost:8080/"
        },
        "outputId": "1c9a1260-0e8b-4b0c-9a14-e92797432ccf"
      },
      "execution_count": 105,
      "outputs": [
        {
          "output_type": "execute_result",
          "data": {
            "text/plain": [
              "{'hidden_layer_sizes': 32, 'max_iter': 200, 'solver': 'adam'}"
            ]
          },
          "metadata": {},
          "execution_count": 105
        }
      ]
    },
    {
      "cell_type": "code",
      "source": [
        "best_grid = grid_search.best_estimator_\n",
        "best_grid"
      ],
      "metadata": {
        "colab": {
          "base_uri": "https://localhost:8080/"
        },
        "id": "4dRE9TFDp6dJ",
        "outputId": "d7392f8b-08d2-46b7-e647-265c0fa257ab"
      },
      "execution_count": 106,
      "outputs": [
        {
          "output_type": "execute_result",
          "data": {
            "text/plain": [
              "MLPClassifier(early_stopping=True, hidden_layer_sizes=32, tol=0.01)"
            ]
          },
          "metadata": {},
          "execution_count": 106
        }
      ]
    },
    {
      "cell_type": "markdown",
      "source": [
        "***2.3 Performance Metrics: Check the performance of Predictions on Train and Test sets using Accuracy (1 pts), Confusion Matrix (2 pts), Plot ROC curve and get ROC_AUC score for each model (2 pts), Make classification reports for each model. Write inferences on each model (2 pts). Calculate Train and Test Accuracies for each model. Comment on the validness of models (overfitting or underfitting) Build confusion matrix for each model. Comment on the positive class in hand. Must clearly show obs/pred in row/col Plot roc_curve for each model. Calculate roc_auc_score for each model. Comment on the above calculated scores and plots. Build classification reports for each model. Comment on f1 score, precision and recall, which one is important here.***"
      ],
      "metadata": {
        "id": "hzSdb9VQNcx3"
      }
    },
    {
      "cell_type": "code",
      "source": [],
      "metadata": {
        "id": "GGB930R_9s2_"
      },
      "execution_count": null,
      "outputs": []
    },
    {
      "cell_type": "code",
      "source": [
        "# Initialise a Decision Tree Classifier\n",
        "dt_model = DecisionTreeClassifier(criterion = 'gini' )"
      ],
      "metadata": {
        "id": "CF1vNew59s6Y"
      },
      "execution_count": 113,
      "outputs": []
    },
    {
      "cell_type": "code",
      "source": [
        "# Fit the model\n",
        "dt_model.fit(X_train, train_labels)"
      ],
      "metadata": {
        "colab": {
          "base_uri": "https://localhost:8080/"
        },
        "id": "LOorsrtE9zUD",
        "outputId": "1afe7e29-8e9a-43b7-a416-1e630bba2f7d"
      },
      "execution_count": 114,
      "outputs": [
        {
          "output_type": "execute_result",
          "data": {
            "text/plain": [
              "DecisionTreeClassifier()"
            ]
          },
          "metadata": {},
          "execution_count": 114
        }
      ]
    },
    {
      "cell_type": "code",
      "source": [
        "from sklearn import tree\n",
        "\n",
        "train_char_label = ['No', 'Yes']\n",
        "ld_Tree_File = open('ld_Tree_File.dot','w')\n",
        "dot_data = tree.export_graphviz(dt_model, \n",
        "                                out_file=ld_Tree_File, \n",
        "                                feature_names = list(X_train)\n",
        "                               )\n",
        "\n",
        "ld_Tree_File.close()"
      ],
      "metadata": {
        "id": "fHqdYXZX9Hhu"
      },
      "execution_count": 134,
      "outputs": []
    },
    {
      "cell_type": "code",
      "source": [
        "ytrain_predict = reg_dt_model.predict(X_train)\n",
        "ytest_predict = reg_dt_model.predict(X_test)"
      ],
      "metadata": {
        "id": "F0AY3QQdp6ED"
      },
      "execution_count": 121,
      "outputs": []
    },
    {
      "cell_type": "code",
      "source": [
        "ytest_predict_prob=reg_dt_model.predict_proba(X_test)\n",
        "ytest_predict_prob"
      ],
      "metadata": {
        "id": "xbpvKl7hv5GR"
      },
      "execution_count": 121,
      "outputs": []
    },
    {
      "cell_type": "code",
      "source": [
        " pd.DataFrame(ytest_predict_prob).head()"
      ],
      "metadata": {
        "id": "nDbT5KELv5I1"
      },
      "execution_count": 121,
      "outputs": []
    },
    {
      "cell_type": "code",
      "source": [
        "import matplotlib.pyplot as plt"
      ],
      "metadata": {
        "id": "DmkfQNOsv5MU"
      },
      "execution_count": 86,
      "outputs": []
    },
    {
      "cell_type": "code",
      "source": [
        "ytrain_predict = best_grid.predict(X_train)\n",
        "ytest_predict = best_grid.predict(X_test)"
      ],
      "metadata": {
        "id": "BcPOrK_QHAAr"
      },
      "execution_count": 135,
      "outputs": []
    },
    {
      "cell_type": "code",
      "source": [
        "# predict probabilities\n",
        "probs = reg_dt_model.predict_proba(X_train)\n",
        "# keep probabilities for the positive outcome only\n",
        "probs = probs[:, 1]\n",
        "# calculate AUC\n",
        "from sklearn.metrics import roc_auc_score\n",
        "auc = roc_auc_score(train_labels, probs)\n",
        "print('AUC: %.3f' % auc)\n",
        "# calculate roc curve\n",
        "from sklearn.metrics import roc_curve\n",
        "fpr, tpr, thresholds = roc_curve(train_labels, probs)\n",
        "plt.plot([0, 1], [0, 1], linestyle='--')\n",
        "# plot the roc curve for the model\n",
        "plt.plot(fpr, tpr, marker='.')\n",
        "## Labelling \n",
        "plt.title(\" ROC Curves & AUC\")\n",
        "plt.xlabel(\" Specificity\")\n",
        "plt.ylabel(\"Sensitivity\")\n",
        "# show the plot\n",
        "plt.show()"
      ],
      "metadata": {
        "id": "nXnMHMV1wSlC"
      },
      "execution_count": 136,
      "outputs": []
    },
    {
      "cell_type": "code",
      "source": [
        "# predict probabilities\n",
        "probs = reg_dt_model.predict_proba(X_test)\n",
        "# keep probabilities for the positive outcome only\n",
        "probs = probs[:, 1]\n",
        "# calculate AUC\n",
        "from sklearn.metrics import roc_auc_score\n",
        "auc = roc_auc_score(test_labels, probs)\n",
        "print('AUC: %.3f' % auc)\n",
        "# calculate roc curve\n",
        "from sklearn.metrics import roc_curve\n",
        "fpr, tpr, thresholds = roc_curve(test_labels, probs)\n",
        "plt.plot([0, 1], [0, 1], linestyle='--')\n",
        "# plot the roc curve for the model\n",
        "plt.plot(fpr, tpr, marker='.')\n",
        "## Labelling \n",
        "plt.title(\" ROC Curves & AUC\")\n",
        "plt.xlabel(\" Specificity\")\n",
        "plt.ylabel(\"Sensitivity\")\n",
        "# show the plot\n",
        "plt.show()"
      ],
      "metadata": {
        "id": "wcN0HI3OwSr8"
      },
      "execution_count": 86,
      "outputs": []
    },
    {
      "cell_type": "code",
      "source": [
        "from sklearn.metrics import classification_report,confusion_matrix\n",
        "import seaborn as sns"
      ],
      "metadata": {
        "id": "BffWyGR-wc5H"
      },
      "execution_count": 86,
      "outputs": []
    },
    {
      "cell_type": "code",
      "source": [
        "cm_train = confusion_matrix(train_labels, ytrain_predict)"
      ],
      "metadata": {
        "id": "U2XfBlKgwc8k"
      },
      "execution_count": 81,
      "outputs": []
    },
    {
      "cell_type": "code",
      "source": [
        "sns.heatmap(data=df,annot =True, cmap ='coolwarm', fmt='', cbar =False).set_title('Confusion Matrix of Training Data');\n",
        "plt.xlabel(\"Predicted\")\n",
        "plt.ylabel(\"Actual\");"
      ],
      "metadata": {
        "id": "grE2OhuzwdHq"
      },
      "execution_count": 86,
      "outputs": []
    },
    {
      "cell_type": "code",
      "source": [
        "#Train Data Accuracy\n",
        "reg_dt_model.score(X_train,train_labels)"
      ],
      "metadata": {
        "id": "MJxwpfyRw2uk"
      },
      "execution_count": 87,
      "outputs": []
    },
    {
      "cell_type": "code",
      "source": [
        "print(classification_report(train_labels, ytrain_predict))"
      ],
      "metadata": {
        "id": "WlDIzzWWw23d"
      },
      "execution_count": 87,
      "outputs": []
    },
    {
      "cell_type": "code",
      "source": [
        "#Accuracy on the Training Data: 83%\n",
        "Accuracy on the Test Data: 82%\n",
        "\n",
        "AUC on the Training Data: 87.9%\n",
        "AUC on the Test: 88.1%\n",
        "\n",
        "Accuracy, AUC, Precision and Recall for test data is almost inline with training data.\n",
        "This proves no overfitting or underfitting has happened, and overall the model is a good model for classification\n",
        "\n",
        "FICO, term and gender (in same order of preference) are the most important variables in determining if a borrower will get into a delinquent stage"
      ],
      "metadata": {
        "id": "9CeLU6D7w267"
      },
      "execution_count": 87,
      "outputs": []
    },
    {
      "cell_type": "markdown",
      "source": [
        "***2.4 Final Model - Compare all models on the basis of the performance metrics in a structured tabular manner (2.5 pts). Describe on which model is best/optimized (1.5 pts ). A table containing all the values of accuracies, precision, recall, auc_roc_score, f1 score. Comparison between the different models(final) on the basis of above table values. After comparison which model suits the best for the problem in hand on the basis of different measures. Comment on the final model.***"
      ],
      "metadata": {
        "id": "6O2lO-URNkNu"
      }
    },
    {
      "cell_type": "code",
      "source": [
        "ytrain_predict = best_grid.predict(X_train)\n",
        "ytest_predict = best_grid.predict(X_test)"
      ],
      "metadata": {
        "id": "-oabsOUoGnAK"
      },
      "execution_count": 1,
      "outputs": []
    },
    {
      "cell_type": "code",
      "source": [
        "confusion_matrix(train_labels,ytrain_predict)"
      ],
      "metadata": {
        "id": "HZ2IDqkxNqxQ",
        "colab": {
          "base_uri": "https://localhost:8080/"
        },
        "outputId": "b6e01751-fd98-4b2b-fefc-c698d329aa4c"
      },
      "execution_count": 128,
      "outputs": [
        {
          "output_type": "execute_result",
          "data": {
            "text/plain": [
              "array([[  0,   6,   4, 420,   9],\n",
              "       [  0, 452,  17,   0,   1],\n",
              "       [  0, 456,  38, 289,  19],\n",
              "       [  0,   0,   0,  82,   0],\n",
              "       [  0,   3,   1, 300,   3]])"
            ]
          },
          "metadata": {},
          "execution_count": 128
        }
      ]
    },
    {
      "cell_type": "code",
      "source": [
        "rf_train_acc=best_grid.score(X_train,train_labels) \n",
        "rf_train_acc"
      ],
      "metadata": {
        "id": "cm0pzfwLNrf7",
        "colab": {
          "base_uri": "https://localhost:8080/"
        },
        "outputId": "2d2d9fc7-1e57-468a-f1f6-ebcacba082f1"
      },
      "execution_count": 129,
      "outputs": [
        {
          "output_type": "execute_result",
          "data": {
            "text/plain": [
              "0.27380952380952384"
            ]
          },
          "metadata": {},
          "execution_count": 129
        }
      ]
    },
    {
      "cell_type": "code",
      "source": [
        "print(classification_report(train_labels, ytrain_predict))"
      ],
      "metadata": {
        "id": "m589F-bkNrjO",
        "colab": {
          "base_uri": "https://localhost:8080/"
        },
        "outputId": "5b6ed135-2d2e-4878-e7d4-7dee9c1bed41"
      },
      "execution_count": 131,
      "outputs": [
        {
          "output_type": "stream",
          "name": "stdout",
          "text": [
            "              precision    recall  f1-score   support\n",
            "\n",
            "           0       0.00      0.00      0.00       439\n",
            "           1       0.49      0.96      0.65       470\n",
            "           2       0.63      0.05      0.09       802\n",
            "           3       0.08      1.00      0.14        82\n",
            "           4       0.09      0.01      0.02       307\n",
            "\n",
            "    accuracy                           0.27      2100\n",
            "   macro avg       0.26      0.40      0.18      2100\n",
            "weighted avg       0.37      0.27      0.19      2100\n",
            "\n"
          ]
        }
      ]
    },
    {
      "cell_type": "code",
      "source": [
        "nn_metrics=classification_report(train_labels, ytrain_predict,output_dict=True)\n",
        "df=pd.DataFrame(nn_metrics).transpose()\n",
        "nn_train_precision=round(df.loc[\"1\"][0],2)\n",
        "nn_train_recall=round(df.loc[\"1\"][1],2)\n",
        "nn_train_f1=round(df.loc[\"1\"][2],2)\n",
        "print ('nn_train_precision ',nn_train_precision)\n",
        "print ('nn_train_recall ',nn_train_recall)\n",
        "print ('nn_train_f1 ',nn_train_f1)"
      ],
      "metadata": {
        "colab": {
          "base_uri": "https://localhost:8080/"
        },
        "id": "zDOp3b32JFqW",
        "outputId": "0244e844-0345-4dd2-cf22-3559b6c177a1"
      },
      "execution_count": 137,
      "outputs": [
        {
          "output_type": "stream",
          "name": "stdout",
          "text": [
            "nn_train_precision  0.49\n",
            "nn_train_recall  0.96\n",
            "nn_train_f1  0.65\n"
          ]
        }
      ]
    },
    {
      "cell_type": "code",
      "source": [
        "nn_train_fpr, nn_train_tpr,_=roc_curve(train_labels,best_grid.predict_proba(X_train)[:,1])\n",
        "plt.plot(nn_train_fpr,nn_train_tpr,color='black')\n",
        "plt.plot([0, 1], [0, 1], linestyle='--')\n",
        "plt.xlabel('False Positive Rate')\n",
        "plt.ylabel('True Positive Rate')\n",
        "plt.title('ROC')\n",
        "nn_train_auc=roc_auc_score(train_labels,best_grid.predict(X_train))\n",
        "print('Area under Curve is', nn_train_auc)"
      ],
      "metadata": {
        "id": "3H3Ghh6LJFvc"
      },
      "execution_count": 145,
      "outputs": []
    },
    {
      "cell_type": "code",
      "source": [
        "#for test"
      ],
      "metadata": {
        "id": "_Y6qhbvmJFzy"
      },
      "execution_count": 139,
      "outputs": []
    },
    {
      "cell_type": "code",
      "source": [
        "confusion_matrix(test_labels,ytest_predict)"
      ],
      "metadata": {
        "colab": {
          "base_uri": "https://localhost:8080/"
        },
        "id": "4sBpfbG8JF3U",
        "outputId": "e011d0f7-f868-4c09-dd46-a9c32c95d11c"
      },
      "execution_count": 140,
      "outputs": [
        {
          "output_type": "execute_result",
          "data": {
            "text/plain": [
              "array([[  0,   5,   3, 200,   3],\n",
              "       [  0, 200,   7,   0,   1],\n",
              "       [  0, 216,  12, 101,   5],\n",
              "       [  0,   0,   0,  27,   0],\n",
              "       [  0,   0,   0, 119,   1]])"
            ]
          },
          "metadata": {},
          "execution_count": 140
        }
      ]
    },
    {
      "cell_type": "code",
      "source": [
        "nn_test_acc=best_grid.score(X_test_scaled,test_labels)\n",
        "nn_test_acc"
      ],
      "metadata": {
        "colab": {
          "base_uri": "https://localhost:8080/"
        },
        "id": "CfG4M_JcJgq-",
        "outputId": "fa51c6fd-450c-43e4-b1f3-b0ff06bee754"
      },
      "execution_count": 141,
      "outputs": [
        {
          "output_type": "execute_result",
          "data": {
            "text/plain": [
              "0.6744444444444444"
            ]
          },
          "metadata": {},
          "execution_count": 141
        }
      ]
    },
    {
      "cell_type": "code",
      "source": [
        "print(classification_report(train_labels, ytrain_predict))"
      ],
      "metadata": {
        "id": "0g9x0rkKJgtt"
      },
      "execution_count": 1,
      "outputs": []
    },
    {
      "cell_type": "code",
      "source": [
        "nn_metrics=classification_report(test_labels, ytest_predict,output_dict=True)\n",
        "df=pd.DataFrame(nn_metrics).transpose()\n",
        "nn_test_precision=round(df.loc[\"1\"][0],2)\n",
        "nn_test_recall=round(df.loc[\"1\"][1],2)\n",
        "nn_test_f1=round(df.loc[\"1\"][2],2)\n",
        "print ('nn_test_precision ',nn_test_precision)\n",
        "print ('nn_test_recall ',nn_test_recall)\n",
        "print ('nn_test_f1 ',nn_test_f1)"
      ],
      "metadata": {
        "colab": {
          "base_uri": "https://localhost:8080/"
        },
        "id": "h3mYcoFlJgwJ",
        "outputId": "c46b9bdd-111d-427e-c060-f37a2613881c"
      },
      "execution_count": 143,
      "outputs": [
        {
          "output_type": "stream",
          "name": "stdout",
          "text": [
            "nn_test_precision  0.48\n",
            "nn_test_recall  0.96\n",
            "nn_test_f1  0.64\n"
          ]
        }
      ]
    },
    {
      "cell_type": "code",
      "source": [
        "nn_test_fpr, nn_test_tpr,_=roc_curve(test_labels,best_grid.predict_proba(X_test)[:,1])\n",
        "plt.plot(nn_test_fpr,nn_test_tpr,color='black')\n",
        "plt.plot([0, 1], [0, 1], linestyle='--')\n",
        "plt.xlabel('False Positive Rate')\n",
        "plt.ylabel('True Positive Rate')\n",
        "plt.title('ROC')\n",
        "nn_test_auc=roc_auc_score(test_labels,best_grid.predict(X_test))\n",
        "print('Area under Curve is', nn_test_auc)"
      ],
      "metadata": {
        "id": "M44uhz79Jgzw"
      },
      "execution_count": 145,
      "outputs": []
    },
    {
      "cell_type": "code",
      "source": [
        "best_grid.score"
      ],
      "metadata": {
        "colab": {
          "base_uri": "https://localhost:8080/"
        },
        "id": "BFko9HIgJxHl",
        "outputId": "e8bced47-ea28-4390-a6ee-340e05fbae8c"
      },
      "execution_count": 145,
      "outputs": [
        {
          "output_type": "execute_result",
          "data": {
            "text/plain": [
              "<bound method ClassifierMixin.score of MLPClassifier(early_stopping=True, hidden_layer_sizes=32, tol=0.01)>"
            ]
          },
          "metadata": {},
          "execution_count": 145
        }
      ]
    },
    {
      "cell_type": "markdown",
      "source": [
        "***2.5 Based on your analysis and working on the business problem, detail out appropriate insights and recommendations to help the management solve the business objective. There should be at least 3-4 Recommendations and insights in total. Recommendations should be easily understandable and business specific, students should not give any technical suggestions. Full marks should only be allotted if the recommendations are correct and business specific.***"
      ],
      "metadata": {
        "id": "8ZdPIWS7Nr1D"
      }
    },
    {
      "cell_type": "code",
      "source": [],
      "metadata": {
        "id": "37zIDwRBNw_A"
      },
      "execution_count": null,
      "outputs": []
    },
    {
      "cell_type": "code",
      "source": [],
      "metadata": {
        "id": "Y_ouJpNfNxyc"
      },
      "execution_count": null,
      "outputs": []
    },
    {
      "cell_type": "code",
      "source": [],
      "metadata": {
        "id": "zAW-Tf0xNx1y"
      },
      "execution_count": null,
      "outputs": []
    }
  ]
}